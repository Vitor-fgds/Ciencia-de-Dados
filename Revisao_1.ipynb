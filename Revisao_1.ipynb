{
  "nbformat": 4,
  "nbformat_minor": 0,
  "metadata": {
    "colab": {
      "provenance": []
    },
    "kernelspec": {
      "name": "python3",
      "display_name": "Python 3"
    },
    "language_info": {
      "name": "python"
    }
  },
  "cells": [
    {
      "cell_type": "code",
      "execution_count": null,
      "metadata": {
        "id": "OBlmo-44no8n"
      },
      "outputs": [],
      "source": [
        "import numpy as np"
      ]
    },
    {
      "cell_type": "code",
      "source": [
        "notas = np.loadtxt('score.csv', delimiter = ',')"
      ],
      "metadata": {
        "id": "4hEO5vhF8iy8"
      },
      "execution_count": null,
      "outputs": []
    },
    {
      "cell_type": "code",
      "source": [
        "print(notas)"
      ],
      "metadata": {
        "colab": {
          "base_uri": "https://localhost:8080/"
        },
        "id": "zrfxBddW90VV",
        "outputId": "b747bea3-bee1-43f0-b01b-596a2861dc61"
      },
      "execution_count": null,
      "outputs": [
        {
          "output_type": "stream",
          "name": "stdout",
          "text": [
            "[[ 2.5 21. ]\n",
            " [ 5.1 47. ]\n",
            " [ 3.2 27. ]\n",
            " [ 8.5 75. ]\n",
            " [ 3.5 30. ]\n",
            " [ 1.5 20. ]\n",
            " [ 9.2 88. ]\n",
            " [ 5.5 60. ]\n",
            " [ 8.3 81. ]\n",
            " [ 2.7 25. ]\n",
            " [ 7.7 85. ]\n",
            " [ 5.9 62. ]\n",
            " [ 4.5 41. ]\n",
            " [ 3.3 42. ]\n",
            " [ 1.1 17. ]\n",
            " [ 8.9 95. ]\n",
            " [ 2.5 30. ]\n",
            " [ 1.9 24. ]\n",
            " [ 6.1 67. ]\n",
            " [ 7.4 69. ]\n",
            " [ 2.7 30. ]\n",
            " [ 4.8 54. ]\n",
            " [ 3.8 35. ]\n",
            " [ 6.9 76. ]\n",
            " [ 7.8 86. ]]\n"
          ]
        }
      ]
    },
    {
      "cell_type": "code",
      "source": [
        "dados = np.array(notas)\n",
        "print(dados)"
      ],
      "metadata": {
        "id": "z6qB9z68Dwcr",
        "outputId": "5c4b59f5-8c01-4a98-9cd9-c16f8fbf0a63",
        "colab": {
          "base_uri": "https://localhost:8080/"
        }
      },
      "execution_count": null,
      "outputs": [
        {
          "output_type": "stream",
          "name": "stdout",
          "text": [
            "[[ 2.5 21. ]\n",
            " [ 5.1 47. ]\n",
            " [ 3.2 27. ]\n",
            " [ 8.5 75. ]\n",
            " [ 3.5 30. ]\n",
            " [ 1.5 20. ]\n",
            " [ 9.2 88. ]\n",
            " [ 5.5 60. ]\n",
            " [ 8.3 81. ]\n",
            " [ 2.7 25. ]\n",
            " [ 7.7 85. ]\n",
            " [ 5.9 62. ]\n",
            " [ 4.5 41. ]\n",
            " [ 3.3 42. ]\n",
            " [ 1.1 17. ]\n",
            " [ 8.9 95. ]\n",
            " [ 2.5 30. ]\n",
            " [ 1.9 24. ]\n",
            " [ 6.1 67. ]\n",
            " [ 7.4 69. ]\n",
            " [ 2.7 30. ]\n",
            " [ 4.8 54. ]\n",
            " [ 3.8 35. ]\n",
            " [ 6.9 76. ]\n",
            " [ 7.8 86. ]]\n"
          ]
        }
      ]
    },
    {
      "cell_type": "code",
      "source": [
        "dados = dados.T"
      ],
      "metadata": {
        "id": "PpHj5r2vEpgM"
      },
      "execution_count": null,
      "outputs": []
    },
    {
      "cell_type": "code",
      "source": [
        "print(dados[0])\n",
        "print(dados[1])\n"
      ],
      "metadata": {
        "id": "gk16sNprGk6W",
        "outputId": "52269a82-2757-4660-c526-45081e00026c",
        "colab": {
          "base_uri": "https://localhost:8080/"
        }
      },
      "execution_count": null,
      "outputs": [
        {
          "output_type": "stream",
          "name": "stdout",
          "text": [
            "[2.5 5.1 3.2 8.5 3.5 1.5 9.2 5.5 8.3 2.7 7.7 5.9 4.5 3.3 1.1 8.9 2.5 1.9\n",
            " 6.1 7.4 2.7 4.8 3.8 6.9 7.8]\n",
            "[21. 47. 27. 75. 30. 20. 88. 60. 81. 25. 85. 62. 41. 42. 17. 95. 30. 24.\n",
            " 67. 69. 30. 54. 35. 76. 86.]\n"
          ]
        }
      ]
    },
    {
      "cell_type": "code",
      "source": [
        "média_nota = np.mean(dados[0])\n",
        "print(média_nota)"
      ],
      "metadata": {
        "id": "S_QXNsXH-7vL",
        "outputId": "7f830411-896f-4b97-9d02-5f3f845490f3",
        "colab": {
          "base_uri": "https://localhost:8080/"
        }
      },
      "execution_count": null,
      "outputs": [
        {
          "output_type": "stream",
          "name": "stdout",
          "text": [
            "5.012\n"
          ]
        }
      ]
    },
    {
      "cell_type": "code",
      "source": [
        "média_horas = np.mean(dados[1])\n",
        "print(média_horas)"
      ],
      "metadata": {
        "colab": {
          "base_uri": "https://localhost:8080/"
        },
        "id": "yuUfO7LT_c5g",
        "outputId": "fdb05b9c-9663-4ab5-ece3-96271de6a431"
      },
      "execution_count": null,
      "outputs": [
        {
          "output_type": "stream",
          "name": "stdout",
          "text": [
            "51.48\n"
          ]
        }
      ]
    }
  ]
}