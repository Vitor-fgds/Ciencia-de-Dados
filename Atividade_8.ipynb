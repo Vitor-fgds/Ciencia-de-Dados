{
  "nbformat": 4,
  "nbformat_minor": 0,
  "metadata": {
    "colab": {
      "provenance": []
    },
    "kernelspec": {
      "name": "python3",
      "display_name": "Python 3"
    },
    "language_info": {
      "name": "python"
    }
  },
  "cells": [
    {
      "cell_type": "code",
      "execution_count": null,
      "metadata": {
        "colab": {
          "base_uri": "https://localhost:8080/",
          "height": 684
        },
        "id": "IlZ2xQn5R_3Q",
        "outputId": "5dd3fab4-52ce-4d63-a764-81381a5fcb32"
      },
      "outputs": [
        {
          "output_type": "execute_result",
          "data": {
            "text/plain": [
              "       id  battery_power  blue  clock_speed  dual_sim  fc  four_g  int_memory  \\\n",
              "0       1           1043     1          1.8         1  14       0           5   \n",
              "1       2            841     1          0.5         1   4       1          61   \n",
              "2       3           1807     1          2.8         0   1       0          27   \n",
              "3       4           1546     0          0.5         1  18       1          25   \n",
              "4       5           1434     0          1.4         0  11       1          49   \n",
              "..    ...            ...   ...          ...       ...  ..     ...         ...   \n",
              "995   996           1700     1          1.9         0   0       1          54   \n",
              "996   997            609     0          1.8         1   0       0          13   \n",
              "997   998           1185     0          1.4         0   1       1           8   \n",
              "998   999           1533     1          0.5         1   0       0          50   \n",
              "999  1000           1270     1          0.5         0   4       1          35   \n",
              "\n",
              "     m_dep  mobile_wt  ...  pc  px_height  px_width   ram  sc_h  sc_w  \\\n",
              "0      0.1        193  ...  16        226      1412  3476    12     7   \n",
              "1      0.8        191  ...  12        746       857  3895     6     0   \n",
              "2      0.9        186  ...   4       1270      1366  2396    17    10   \n",
              "3      0.5         96  ...  20        295      1752  3893    10     0   \n",
              "4      0.5        108  ...  18        749       810  1773    15     8   \n",
              "..     ...        ...  ...  ..        ...       ...   ...   ...   ...   \n",
              "995    0.5        170  ...  17        644       913  2121    14     8   \n",
              "996    0.9        186  ...   2       1152      1632  1933     8     1   \n",
              "997    0.5         80  ...  12        477       825  1223     5     0   \n",
              "998    0.4        171  ...  12         38       832  2509    15    11   \n",
              "999    0.1        140  ...  19        457       608  2828     9     2   \n",
              "\n",
              "     talk_time  three_g  touch_screen  wifi  \n",
              "0            2        0             1     0  \n",
              "1            7        1             0     0  \n",
              "2           10        0             1     1  \n",
              "3            7        1             1     0  \n",
              "4            7        1             0     1  \n",
              "..         ...      ...           ...   ...  \n",
              "995         15        1             1     0  \n",
              "996         19        0             1     1  \n",
              "997         14        1             0     0  \n",
              "998          6        0             1     0  \n",
              "999          3        1             0     1  \n",
              "\n",
              "[1000 rows x 21 columns]"
            ],
            "text/html": [
              "\n",
              "  <div id=\"df-a0834ded-7b2b-493a-a095-25f49f17d9fe\">\n",
              "    <div class=\"colab-df-container\">\n",
              "      <div>\n",
              "<style scoped>\n",
              "    .dataframe tbody tr th:only-of-type {\n",
              "        vertical-align: middle;\n",
              "    }\n",
              "\n",
              "    .dataframe tbody tr th {\n",
              "        vertical-align: top;\n",
              "    }\n",
              "\n",
              "    .dataframe thead th {\n",
              "        text-align: right;\n",
              "    }\n",
              "</style>\n",
              "<table border=\"1\" class=\"dataframe\">\n",
              "  <thead>\n",
              "    <tr style=\"text-align: right;\">\n",
              "      <th></th>\n",
              "      <th>id</th>\n",
              "      <th>battery_power</th>\n",
              "      <th>blue</th>\n",
              "      <th>clock_speed</th>\n",
              "      <th>dual_sim</th>\n",
              "      <th>fc</th>\n",
              "      <th>four_g</th>\n",
              "      <th>int_memory</th>\n",
              "      <th>m_dep</th>\n",
              "      <th>mobile_wt</th>\n",
              "      <th>...</th>\n",
              "      <th>pc</th>\n",
              "      <th>px_height</th>\n",
              "      <th>px_width</th>\n",
              "      <th>ram</th>\n",
              "      <th>sc_h</th>\n",
              "      <th>sc_w</th>\n",
              "      <th>talk_time</th>\n",
              "      <th>three_g</th>\n",
              "      <th>touch_screen</th>\n",
              "      <th>wifi</th>\n",
              "    </tr>\n",
              "  </thead>\n",
              "  <tbody>\n",
              "    <tr>\n",
              "      <th>0</th>\n",
              "      <td>1</td>\n",
              "      <td>1043</td>\n",
              "      <td>1</td>\n",
              "      <td>1.8</td>\n",
              "      <td>1</td>\n",
              "      <td>14</td>\n",
              "      <td>0</td>\n",
              "      <td>5</td>\n",
              "      <td>0.1</td>\n",
              "      <td>193</td>\n",
              "      <td>...</td>\n",
              "      <td>16</td>\n",
              "      <td>226</td>\n",
              "      <td>1412</td>\n",
              "      <td>3476</td>\n",
              "      <td>12</td>\n",
              "      <td>7</td>\n",
              "      <td>2</td>\n",
              "      <td>0</td>\n",
              "      <td>1</td>\n",
              "      <td>0</td>\n",
              "    </tr>\n",
              "    <tr>\n",
              "      <th>1</th>\n",
              "      <td>2</td>\n",
              "      <td>841</td>\n",
              "      <td>1</td>\n",
              "      <td>0.5</td>\n",
              "      <td>1</td>\n",
              "      <td>4</td>\n",
              "      <td>1</td>\n",
              "      <td>61</td>\n",
              "      <td>0.8</td>\n",
              "      <td>191</td>\n",
              "      <td>...</td>\n",
              "      <td>12</td>\n",
              "      <td>746</td>\n",
              "      <td>857</td>\n",
              "      <td>3895</td>\n",
              "      <td>6</td>\n",
              "      <td>0</td>\n",
              "      <td>7</td>\n",
              "      <td>1</td>\n",
              "      <td>0</td>\n",
              "      <td>0</td>\n",
              "    </tr>\n",
              "    <tr>\n",
              "      <th>2</th>\n",
              "      <td>3</td>\n",
              "      <td>1807</td>\n",
              "      <td>1</td>\n",
              "      <td>2.8</td>\n",
              "      <td>0</td>\n",
              "      <td>1</td>\n",
              "      <td>0</td>\n",
              "      <td>27</td>\n",
              "      <td>0.9</td>\n",
              "      <td>186</td>\n",
              "      <td>...</td>\n",
              "      <td>4</td>\n",
              "      <td>1270</td>\n",
              "      <td>1366</td>\n",
              "      <td>2396</td>\n",
              "      <td>17</td>\n",
              "      <td>10</td>\n",
              "      <td>10</td>\n",
              "      <td>0</td>\n",
              "      <td>1</td>\n",
              "      <td>1</td>\n",
              "    </tr>\n",
              "    <tr>\n",
              "      <th>3</th>\n",
              "      <td>4</td>\n",
              "      <td>1546</td>\n",
              "      <td>0</td>\n",
              "      <td>0.5</td>\n",
              "      <td>1</td>\n",
              "      <td>18</td>\n",
              "      <td>1</td>\n",
              "      <td>25</td>\n",
              "      <td>0.5</td>\n",
              "      <td>96</td>\n",
              "      <td>...</td>\n",
              "      <td>20</td>\n",
              "      <td>295</td>\n",
              "      <td>1752</td>\n",
              "      <td>3893</td>\n",
              "      <td>10</td>\n",
              "      <td>0</td>\n",
              "      <td>7</td>\n",
              "      <td>1</td>\n",
              "      <td>1</td>\n",
              "      <td>0</td>\n",
              "    </tr>\n",
              "    <tr>\n",
              "      <th>4</th>\n",
              "      <td>5</td>\n",
              "      <td>1434</td>\n",
              "      <td>0</td>\n",
              "      <td>1.4</td>\n",
              "      <td>0</td>\n",
              "      <td>11</td>\n",
              "      <td>1</td>\n",
              "      <td>49</td>\n",
              "      <td>0.5</td>\n",
              "      <td>108</td>\n",
              "      <td>...</td>\n",
              "      <td>18</td>\n",
              "      <td>749</td>\n",
              "      <td>810</td>\n",
              "      <td>1773</td>\n",
              "      <td>15</td>\n",
              "      <td>8</td>\n",
              "      <td>7</td>\n",
              "      <td>1</td>\n",
              "      <td>0</td>\n",
              "      <td>1</td>\n",
              "    </tr>\n",
              "    <tr>\n",
              "      <th>...</th>\n",
              "      <td>...</td>\n",
              "      <td>...</td>\n",
              "      <td>...</td>\n",
              "      <td>...</td>\n",
              "      <td>...</td>\n",
              "      <td>...</td>\n",
              "      <td>...</td>\n",
              "      <td>...</td>\n",
              "      <td>...</td>\n",
              "      <td>...</td>\n",
              "      <td>...</td>\n",
              "      <td>...</td>\n",
              "      <td>...</td>\n",
              "      <td>...</td>\n",
              "      <td>...</td>\n",
              "      <td>...</td>\n",
              "      <td>...</td>\n",
              "      <td>...</td>\n",
              "      <td>...</td>\n",
              "      <td>...</td>\n",
              "      <td>...</td>\n",
              "    </tr>\n",
              "    <tr>\n",
              "      <th>995</th>\n",
              "      <td>996</td>\n",
              "      <td>1700</td>\n",
              "      <td>1</td>\n",
              "      <td>1.9</td>\n",
              "      <td>0</td>\n",
              "      <td>0</td>\n",
              "      <td>1</td>\n",
              "      <td>54</td>\n",
              "      <td>0.5</td>\n",
              "      <td>170</td>\n",
              "      <td>...</td>\n",
              "      <td>17</td>\n",
              "      <td>644</td>\n",
              "      <td>913</td>\n",
              "      <td>2121</td>\n",
              "      <td>14</td>\n",
              "      <td>8</td>\n",
              "      <td>15</td>\n",
              "      <td>1</td>\n",
              "      <td>1</td>\n",
              "      <td>0</td>\n",
              "    </tr>\n",
              "    <tr>\n",
              "      <th>996</th>\n",
              "      <td>997</td>\n",
              "      <td>609</td>\n",
              "      <td>0</td>\n",
              "      <td>1.8</td>\n",
              "      <td>1</td>\n",
              "      <td>0</td>\n",
              "      <td>0</td>\n",
              "      <td>13</td>\n",
              "      <td>0.9</td>\n",
              "      <td>186</td>\n",
              "      <td>...</td>\n",
              "      <td>2</td>\n",
              "      <td>1152</td>\n",
              "      <td>1632</td>\n",
              "      <td>1933</td>\n",
              "      <td>8</td>\n",
              "      <td>1</td>\n",
              "      <td>19</td>\n",
              "      <td>0</td>\n",
              "      <td>1</td>\n",
              "      <td>1</td>\n",
              "    </tr>\n",
              "    <tr>\n",
              "      <th>997</th>\n",
              "      <td>998</td>\n",
              "      <td>1185</td>\n",
              "      <td>0</td>\n",
              "      <td>1.4</td>\n",
              "      <td>0</td>\n",
              "      <td>1</td>\n",
              "      <td>1</td>\n",
              "      <td>8</td>\n",
              "      <td>0.5</td>\n",
              "      <td>80</td>\n",
              "      <td>...</td>\n",
              "      <td>12</td>\n",
              "      <td>477</td>\n",
              "      <td>825</td>\n",
              "      <td>1223</td>\n",
              "      <td>5</td>\n",
              "      <td>0</td>\n",
              "      <td>14</td>\n",
              "      <td>1</td>\n",
              "      <td>0</td>\n",
              "      <td>0</td>\n",
              "    </tr>\n",
              "    <tr>\n",
              "      <th>998</th>\n",
              "      <td>999</td>\n",
              "      <td>1533</td>\n",
              "      <td>1</td>\n",
              "      <td>0.5</td>\n",
              "      <td>1</td>\n",
              "      <td>0</td>\n",
              "      <td>0</td>\n",
              "      <td>50</td>\n",
              "      <td>0.4</td>\n",
              "      <td>171</td>\n",
              "      <td>...</td>\n",
              "      <td>12</td>\n",
              "      <td>38</td>\n",
              "      <td>832</td>\n",
              "      <td>2509</td>\n",
              "      <td>15</td>\n",
              "      <td>11</td>\n",
              "      <td>6</td>\n",
              "      <td>0</td>\n",
              "      <td>1</td>\n",
              "      <td>0</td>\n",
              "    </tr>\n",
              "    <tr>\n",
              "      <th>999</th>\n",
              "      <td>1000</td>\n",
              "      <td>1270</td>\n",
              "      <td>1</td>\n",
              "      <td>0.5</td>\n",
              "      <td>0</td>\n",
              "      <td>4</td>\n",
              "      <td>1</td>\n",
              "      <td>35</td>\n",
              "      <td>0.1</td>\n",
              "      <td>140</td>\n",
              "      <td>...</td>\n",
              "      <td>19</td>\n",
              "      <td>457</td>\n",
              "      <td>608</td>\n",
              "      <td>2828</td>\n",
              "      <td>9</td>\n",
              "      <td>2</td>\n",
              "      <td>3</td>\n",
              "      <td>1</td>\n",
              "      <td>0</td>\n",
              "      <td>1</td>\n",
              "    </tr>\n",
              "  </tbody>\n",
              "</table>\n",
              "<p>1000 rows × 21 columns</p>\n",
              "</div>\n",
              "      <button class=\"colab-df-convert\" onclick=\"convertToInteractive('df-a0834ded-7b2b-493a-a095-25f49f17d9fe')\"\n",
              "              title=\"Convert this dataframe to an interactive table.\"\n",
              "              style=\"display:none;\">\n",
              "        \n",
              "  <svg xmlns=\"http://www.w3.org/2000/svg\" height=\"24px\"viewBox=\"0 0 24 24\"\n",
              "       width=\"24px\">\n",
              "    <path d=\"M0 0h24v24H0V0z\" fill=\"none\"/>\n",
              "    <path d=\"M18.56 5.44l.94 2.06.94-2.06 2.06-.94-2.06-.94-.94-2.06-.94 2.06-2.06.94zm-11 1L8.5 8.5l.94-2.06 2.06-.94-2.06-.94L8.5 2.5l-.94 2.06-2.06.94zm10 10l.94 2.06.94-2.06 2.06-.94-2.06-.94-.94-2.06-.94 2.06-2.06.94z\"/><path d=\"M17.41 7.96l-1.37-1.37c-.4-.4-.92-.59-1.43-.59-.52 0-1.04.2-1.43.59L10.3 9.45l-7.72 7.72c-.78.78-.78 2.05 0 2.83L4 21.41c.39.39.9.59 1.41.59.51 0 1.02-.2 1.41-.59l7.78-7.78 2.81-2.81c.8-.78.8-2.07 0-2.86zM5.41 20L4 18.59l7.72-7.72 1.47 1.35L5.41 20z\"/>\n",
              "  </svg>\n",
              "      </button>\n",
              "      \n",
              "  <style>\n",
              "    .colab-df-container {\n",
              "      display:flex;\n",
              "      flex-wrap:wrap;\n",
              "      gap: 12px;\n",
              "    }\n",
              "\n",
              "    .colab-df-convert {\n",
              "      background-color: #E8F0FE;\n",
              "      border: none;\n",
              "      border-radius: 50%;\n",
              "      cursor: pointer;\n",
              "      display: none;\n",
              "      fill: #1967D2;\n",
              "      height: 32px;\n",
              "      padding: 0 0 0 0;\n",
              "      width: 32px;\n",
              "    }\n",
              "\n",
              "    .colab-df-convert:hover {\n",
              "      background-color: #E2EBFA;\n",
              "      box-shadow: 0px 1px 2px rgba(60, 64, 67, 0.3), 0px 1px 3px 1px rgba(60, 64, 67, 0.15);\n",
              "      fill: #174EA6;\n",
              "    }\n",
              "\n",
              "    [theme=dark] .colab-df-convert {\n",
              "      background-color: #3B4455;\n",
              "      fill: #D2E3FC;\n",
              "    }\n",
              "\n",
              "    [theme=dark] .colab-df-convert:hover {\n",
              "      background-color: #434B5C;\n",
              "      box-shadow: 0px 1px 3px 1px rgba(0, 0, 0, 0.15);\n",
              "      filter: drop-shadow(0px 1px 2px rgba(0, 0, 0, 0.3));\n",
              "      fill: #FFFFFF;\n",
              "    }\n",
              "  </style>\n",
              "\n",
              "      <script>\n",
              "        const buttonEl =\n",
              "          document.querySelector('#df-a0834ded-7b2b-493a-a095-25f49f17d9fe button.colab-df-convert');\n",
              "        buttonEl.style.display =\n",
              "          google.colab.kernel.accessAllowed ? 'block' : 'none';\n",
              "\n",
              "        async function convertToInteractive(key) {\n",
              "          const element = document.querySelector('#df-a0834ded-7b2b-493a-a095-25f49f17d9fe');\n",
              "          const dataTable =\n",
              "            await google.colab.kernel.invokeFunction('convertToInteractive',\n",
              "                                                     [key], {});\n",
              "          if (!dataTable) return;\n",
              "\n",
              "          const docLinkHtml = 'Like what you see? Visit the ' +\n",
              "            '<a target=\"_blank\" href=https://colab.research.google.com/notebooks/data_table.ipynb>data table notebook</a>'\n",
              "            + ' to learn more about interactive tables.';\n",
              "          element.innerHTML = '';\n",
              "          dataTable['output_type'] = 'display_data';\n",
              "          await google.colab.output.renderOutput(dataTable, element);\n",
              "          const docLink = document.createElement('div');\n",
              "          docLink.innerHTML = docLinkHtml;\n",
              "          element.appendChild(docLink);\n",
              "        }\n",
              "      </script>\n",
              "    </div>\n",
              "  </div>\n",
              "  "
            ]
          },
          "metadata": {},
          "execution_count": 10
        },
        {
          "output_type": "stream",
          "name": "stdout",
          "text": [
            "Warning: Total number of columns (21) exceeds max_columns (20) limiting to first (20) columns.\n"
          ]
        }
      ],
      "source": [
        "import pandas as pd\n",
        "df = pd.read_csv('/content/test.csv')\n",
        "df"
      ]
    },
    {
      "cell_type": "markdown",
      "source": [
        "01) Título do Dataset: test.csv"
      ],
      "metadata": {
        "id": "G7seEauSS8JP"
      }
    },
    {
      "cell_type": "markdown",
      "source": [
        "02) Breve descrição: O dataset contém dados de celulares que foram vendidos por diversas marcas diferentes."
      ],
      "metadata": {
        "id": "5ng8YT4aTElL"
      }
    },
    {
      "cell_type": "markdown",
      "source": [
        "03) Tamanho: 72kB"
      ],
      "metadata": {
        "id": "sytZIZi3TxNu"
      }
    },
    {
      "cell_type": "markdown",
      "source": [
        "04) Extensão: .csv\n"
      ],
      "metadata": {
        "id": "oAttuJLPT7oW"
      }
    },
    {
      "cell_type": "markdown",
      "source": [
        "## 05) Descrição das colunas existentes (nome, descrição, tipo, faixa de valores, etc):\n",
        "ID - id\n",
        "battery power - capacidade da bateria em mAh\n",
        "blue - o aparelho possui bluetooth ou não\n",
        "clock_speed - velocidade que o microprocessador executa as instruções\n",
        "dual_sim - possui suporte dual_sim\n",
        "fc - mega pixels da camera frontal\n",
        "four_g - possui 4g ou não\n",
        "int_memory - memória interna em gigabytes\n",
        "m_dep - espessura em cm do aparelho\n",
        "mobile_wt - peso do aparelho celular\n",
        "n_cores - número de núcleos do processador\n",
        "pc - mega pixel da camera primaria\n",
        "px_height - altura da resolução de pixels\n",
        "px_width - largura da resolução de pixel\n",
        "ram - memória ram em gigabytes\n",
        "sc_h - altura da tela em cm\n",
        "sc_w - largura da tela em cm\n",
        "talk_time - tempo máximo que a bateria carregada consegue durar com você falando\n",
        "three_g - possui 3g ou não\n",
        "touch_screen - possui touch screen ou não\n",
        "wifi - possui wifi ou não\n"
      ],
      "metadata": {
        "id": "gKwdX0KhT-2x"
      }
    },
    {
      "cell_type": "code",
      "source": [
        "df.columns"
      ],
      "metadata": {
        "colab": {
          "base_uri": "https://localhost:8080/"
        },
        "id": "qk8yjZkKUCEM",
        "outputId": "7d2d7882-7eea-4ffa-ce91-67efdf0d1ac7"
      },
      "execution_count": null,
      "outputs": [
        {
          "output_type": "execute_result",
          "data": {
            "text/plain": [
              "Index(['id', 'battery_power', 'blue', 'clock_speed', 'dual_sim', 'fc',\n",
              "       'four_g', 'int_memory', 'm_dep', 'mobile_wt', 'n_cores', 'pc',\n",
              "       'px_height', 'px_width', 'ram', 'sc_h', 'sc_w', 'talk_time', 'three_g',\n",
              "       'touch_screen', 'wifi'],\n",
              "      dtype='object')"
            ]
          },
          "metadata": {},
          "execution_count": 2
        }
      ]
    },
    {
      "cell_type": "markdown",
      "source": [
        "6)"
      ],
      "metadata": {
        "id": "u5nXhop9dUsR"
      }
    },
    {
      "cell_type": "code",
      "source": [
        "x = df['id'].count()\n",
        "x"
      ],
      "metadata": {
        "colab": {
          "base_uri": "https://localhost:8080/"
        },
        "id": "QuEyEdHnWjKG",
        "outputId": "af7b9da3-4d45-47a8-edbb-0153dd289350"
      },
      "execution_count": null,
      "outputs": [
        {
          "output_type": "execute_result",
          "data": {
            "text/plain": [
              "1000"
            ]
          },
          "metadata": {},
          "execution_count": 12
        }
      ]
    },
    {
      "cell_type": "markdown",
      "source": [
        "7)"
      ],
      "metadata": {
        "id": "BqpHstdbdrq_"
      }
    },
    {
      "cell_type": "markdown",
      "source": [
        "MAIOR NÚMERO DE NÚCLEOS"
      ],
      "metadata": {
        "id": "T1VyQrgZeq61"
      }
    },
    {
      "cell_type": "code",
      "source": [
        "x = df['n_cores'].max()\n",
        "x"
      ],
      "metadata": {
        "colab": {
          "base_uri": "https://localhost:8080/"
        },
        "id": "vWp60_yferUo",
        "outputId": "7629c0f3-9549-4cda-cbb7-b60497bca11b"
      },
      "execution_count": null,
      "outputs": [
        {
          "output_type": "execute_result",
          "data": {
            "text/plain": [
              "8"
            ]
          },
          "metadata": {},
          "execution_count": 17
        }
      ]
    },
    {
      "cell_type": "markdown",
      "source": [
        "MAIOR MEMÓRIA INTERNA"
      ],
      "metadata": {
        "id": "qdq2DtwIe3Sa"
      }
    },
    {
      "cell_type": "code",
      "source": [
        "x = df['int_memory'].max()\n",
        "x"
      ],
      "metadata": {
        "colab": {
          "base_uri": "https://localhost:8080/"
        },
        "id": "USgERoWBe3pt",
        "outputId": "82afe58b-34eb-4d19-95ae-788fe4db0337"
      },
      "execution_count": null,
      "outputs": [
        {
          "output_type": "execute_result",
          "data": {
            "text/plain": [
              "64"
            ]
          },
          "metadata": {},
          "execution_count": 18
        }
      ]
    },
    {
      "cell_type": "markdown",
      "source": [
        "MAIOR MEMÓRIA RAM"
      ],
      "metadata": {
        "id": "d78jVY_Od2Q3"
      }
    },
    {
      "cell_type": "code",
      "source": [
        "x = df['ram'].max()\n",
        "x"
      ],
      "metadata": {
        "colab": {
          "base_uri": "https://localhost:8080/"
        },
        "id": "MamevjoWdsjd",
        "outputId": "32584e5e-671e-4727-ec82-17aeec328254"
      },
      "execution_count": null,
      "outputs": [
        {
          "output_type": "execute_result",
          "data": {
            "text/plain": [
              "3989"
            ]
          },
          "metadata": {},
          "execution_count": 13
        }
      ]
    },
    {
      "cell_type": "markdown",
      "source": [
        "MAIOR TEMPO DE CHAMADA"
      ],
      "metadata": {
        "id": "YGFDD-3YeBsm"
      }
    },
    {
      "cell_type": "code",
      "source": [
        "x = df['talk_time'].max()\n",
        "x"
      ],
      "metadata": {
        "colab": {
          "base_uri": "https://localhost:8080/"
        },
        "id": "7RYUb_GreEcy",
        "outputId": "0d6e520e-4696-46be-dcb6-4253c69b1ece"
      },
      "execution_count": null,
      "outputs": [
        {
          "output_type": "execute_result",
          "data": {
            "text/plain": [
              "20"
            ]
          },
          "metadata": {},
          "execution_count": 14
        }
      ]
    },
    {
      "cell_type": "markdown",
      "source": [
        "MAIOR CLOCK SPEED"
      ],
      "metadata": {
        "id": "fJn8pzQ8eMZW"
      }
    },
    {
      "cell_type": "code",
      "source": [
        "x = df['clock_speed'].max()\n",
        "x"
      ],
      "metadata": {
        "colab": {
          "base_uri": "https://localhost:8080/"
        },
        "id": "OmKObT86eMCa",
        "outputId": "40049a02-6aa6-4814-9427-d1ed7339dd79"
      },
      "execution_count": null,
      "outputs": [
        {
          "output_type": "execute_result",
          "data": {
            "text/plain": [
              "3.0"
            ]
          },
          "metadata": {},
          "execution_count": 16
        }
      ]
    },
    {
      "cell_type": "code",
      "source": [],
      "metadata": {
        "id": "BwgvaagJfsKD"
      },
      "execution_count": null,
      "outputs": []
    },
    {
      "cell_type": "code",
      "source": [],
      "metadata": {
        "id": "QbOkHcI8g0Gs"
      },
      "execution_count": null,
      "outputs": []
    }
  ]
}