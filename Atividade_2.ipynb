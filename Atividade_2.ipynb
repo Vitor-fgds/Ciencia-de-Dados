{
  "nbformat": 4,
  "nbformat_minor": 0,
  "metadata": {
    "colab": {
      "provenance": []
    },
    "kernelspec": {
      "name": "python3",
      "display_name": "Python 3"
    },
    "language_info": {
      "name": "python"
    }
  },
  "cells": [
    {
      "cell_type": "code",
      "execution_count": null,
      "metadata": {
        "id": "lejOJ48COSIl"
      },
      "outputs": [],
      "source": [
        "import numpy as np"
      ]
    },
    {
      "cell_type": "markdown",
      "source": [
        "01) Qual o comando para criar uma matriz NumPy de zeros de 3x4?"
      ],
      "metadata": {
        "id": "zDaLNa5COmZ4"
      }
    },
    {
      "cell_type": "code",
      "source": [
        "\n",
        "matriz = np.zeros((3,4))\n",
        "print(matriz)"
      ],
      "metadata": {
        "colab": {
          "base_uri": "https://localhost:8080/"
        },
        "id": "8lGjITmIOpUU",
        "outputId": "e8a7a592-7d9a-464e-9865-ad5cc1d6e766"
      },
      "execution_count": null,
      "outputs": [
        {
          "output_type": "stream",
          "name": "stdout",
          "text": [
            "[[0. 0. 0. 0.]\n",
            " [0. 0. 0. 0.]\n",
            " [0. 0. 0. 0.]]\n"
          ]
        }
      ]
    },
    {
      "cell_type": "markdown",
      "source": [
        "02) Imprima o número de linhas e colunas de uma matriz usando NumPy."
      ],
      "metadata": {
        "id": "IYWOGUf7PXGr"
      }
    },
    {
      "cell_type": "code",
      "source": [
        "matriz.shape"
      ],
      "metadata": {
        "colab": {
          "base_uri": "https://localhost:8080/"
        },
        "id": "sMvbANwLPacv",
        "outputId": "22926b69-9c69-42bc-b658-cf53be5d08f2"
      },
      "execution_count": null,
      "outputs": [
        {
          "output_type": "execute_result",
          "data": {
            "text/plain": [
              "(3, 4)"
            ]
          },
          "metadata": {},
          "execution_count": 5
        }
      ]
    },
    {
      "cell_type": "markdown",
      "source": [
        "03) Defina o comando para acessar o elemento da linha 2 e coluna 3 de uma matriz NumPy denominada mat."
      ],
      "metadata": {
        "id": "dMg6dEYPQF7O"
      }
    },
    {
      "cell_type": "code",
      "source": [
        "mat = np.array([[1,2,3,4],\n",
        "               [4,3,2,1],\n",
        "               [6,7,8,9]])\n",
        "print(mat)\n",
        "\n",
        "print(mat[2][3])"
      ],
      "metadata": {
        "colab": {
          "base_uri": "https://localhost:8080/"
        },
        "id": "FDW08jklQKrB",
        "outputId": "b2fad840-394a-479c-e692-700b03878b44"
      },
      "execution_count": null,
      "outputs": [
        {
          "output_type": "stream",
          "name": "stdout",
          "text": [
            "[[1 2 3 4]\n",
            " [4 3 2 1]\n",
            " [6 7 8 9]]\n",
            "9\n"
          ]
        }
      ]
    },
    {
      "cell_type": "markdown",
      "source": [
        "04) Crie um array com os seguintes valores [2,3,4,5,6,7]."
      ],
      "metadata": {
        "id": "Und__v3dRR3_"
      }
    },
    {
      "cell_type": "code",
      "source": [
        "array = np.array([2,3,4,5,6,7])\n",
        "print(array)"
      ],
      "metadata": {
        "colab": {
          "base_uri": "https://localhost:8080/"
        },
        "id": "lZGAYpS_Rdhg",
        "outputId": "427f1c2a-7393-41f8-83a1-25718ec0f080"
      },
      "execution_count": null,
      "outputs": [
        {
          "output_type": "stream",
          "name": "stdout",
          "text": [
            "[2 3 4 5 6 7]\n"
          ]
        }
      ]
    },
    {
      "cell_type": "markdown",
      "source": [
        "05) Dada a seguinte matriz arrayA, qual o índice do elemento '2g'?\n",
        "arrayA = np.array( [\n",
        "                   ['1a','1b','1c','1d','1e','1f','1g','1h','1i'],\n",
        "                   ['2a','2b','2c','2d','2e','2f','2g','2h','2i'],\n",
        "                   ['3a','3b','3c','3d','3e','3f','3g','3h','3i'],\n",
        "                   ['4a','4b','4c','4d','4e','4f','4g', '4h','4i']\n",
        "                   ])\n",
        "\n",
        "                   **Resposta:** Coluna ---> 1\n",
        "                             Linha  ---> 6"
      ],
      "metadata": {
        "id": "sQZC84UzRnek"
      }
    },
    {
      "cell_type": "markdown",
      "source": [
        "06) Dada a seguinte array a = ['2a' '2b' '2c' '2d' '2e' '2f' '2g' '2h' '2i']\n",
        "\n",
        "\n",
        "a) Como posso imprimir a seguinte fatia, ['2a' '2b' '2c' '2d' '2e']?\n",
        "b) Como posso imprimir a seguinte fatia, ['2i']?\n",
        "c) Como posso imprimir a seguinte fatia, ['2a' '2c' '2e' '2g' '2i']?\n",
        "d) Como posso imprimir a seguinte fatia, ['2h' '2g' '2f']?"
      ],
      "metadata": {
        "id": "KDwN7ySHSMbE"
      }
    },
    {
      "cell_type": "code",
      "source": [
        "a = np.array(['2a','2b','2c','2d','2e','2f','2g','2h','2i'])\n",
        "print(a)\n",
        "\n",
        "print(a[0:5])\n",
        "print(a[8])\n",
        "print(a[0:10:2])\n",
        "print(a[-2:-5])"
      ],
      "metadata": {
        "colab": {
          "base_uri": "https://localhost:8080/"
        },
        "id": "6zZIMipzSS73",
        "outputId": "aa152256-0ca9-48c5-eb10-699cde5da10a"
      },
      "execution_count": null,
      "outputs": [
        {
          "output_type": "stream",
          "name": "stdout",
          "text": [
            "['2a' '2b' '2c' '2d' '2e' '2f' '2g' '2h' '2i']\n",
            "['2a' '2b' '2c' '2d' '2e']\n",
            "2i\n",
            "['2a' '2c' '2e' '2g' '2i']\n",
            "[]\n"
          ]
        }
      ]
    },
    {
      "cell_type": "markdown",
      "source": [
        "07) Crie uma matriz booleana numpy 3×3 com ‘True’"
      ],
      "metadata": {
        "id": "EvNXavR2U_tX"
      }
    },
    {
      "cell_type": "code",
      "source": [
        "matriz_booleana = np.ones((3,3), dtype = bool)\n",
        "\n",
        "\n",
        "print(matriz_booleana)\n"
      ],
      "metadata": {
        "colab": {
          "base_uri": "https://localhost:8080/"
        },
        "id": "jiY9R2LbWU2h",
        "outputId": "b209a63e-4de4-4fcf-9f87-bb454bc7942a"
      },
      "execution_count": null,
      "outputs": [
        {
          "output_type": "stream",
          "name": "stdout",
          "text": [
            "[[ True  True  True]\n",
            " [ True  True  True]\n",
            " [ True  True  True]]\n"
          ]
        }
      ]
    },
    {
      "cell_type": "markdown",
      "source": [
        "08) Dada a seguinte matriz arr, imprima todos os valores ímpares.\n",
        "arr = np.arange(10)"
      ],
      "metadata": {
        "id": "hRqc1pAiYJ8q"
      }
    },
    {
      "cell_type": "code",
      "source": [
        "arr = np.arange(10)\n",
        "print(arr)\n",
        "print(arr[1:10:2])"
      ],
      "metadata": {
        "colab": {
          "base_uri": "https://localhost:8080/"
        },
        "id": "nfWxepWOYOSp",
        "outputId": "b688113c-fb18-4ed0-c2ef-353e7cbdb9f0"
      },
      "execution_count": null,
      "outputs": [
        {
          "output_type": "stream",
          "name": "stdout",
          "text": [
            "[0 1 2 3 4 5 6 7 8 9]\n",
            "[1 3 5 7 9]\n"
          ]
        }
      ]
    },
    {
      "cell_type": "markdown",
      "source": [
        "09) Transforme uma matriz arr de uma dimensão de 12 elementos num matriz de 3x4."
      ],
      "metadata": {
        "id": "mttPwjApYXe1"
      }
    },
    {
      "cell_type": "code",
      "source": [
        "arr = np.arange(12)\n",
        "print(arr)\n",
        "\n",
        "\n",
        "arr_novo = arr.reshape(3,4)\n",
        "print(arr_novo)\n"
      ],
      "metadata": {
        "colab": {
          "base_uri": "https://localhost:8080/"
        },
        "id": "rhhSbmqoYaXV",
        "outputId": "3d29fdea-fcdf-4b24-c104-fb54d38068c8"
      },
      "execution_count": null,
      "outputs": [
        {
          "output_type": "stream",
          "name": "stdout",
          "text": [
            "[ 0  1  2  3  4  5  6  7  8  9 10 11]\n",
            "[[ 0  1  2  3]\n",
            " [ 4  5  6  7]\n",
            " [ 8  9 10 11]]\n"
          ]
        }
      ]
    },
    {
      "cell_type": "markdown",
      "source": [
        "10) Crie uma matriz identidade de 4x4."
      ],
      "metadata": {
        "id": "CEvzrckzYtdR"
      }
    },
    {
      "cell_type": "code",
      "source": [
        "matriz_identidade = np.array([\n",
        "    [1,0,0,0],\n",
        "    [0,1,0,0],\n",
        "    [0,0,1,0],\n",
        "    [0,0,0,1]\n",
        "])\n",
        "print(matriz_identidade)"
      ],
      "metadata": {
        "colab": {
          "base_uri": "https://localhost:8080/"
        },
        "id": "ekMjoQ4uY1r4",
        "outputId": "1a0ad3ac-bc83-49e4-e085-b4f6d208516d"
      },
      "execution_count": null,
      "outputs": [
        {
          "output_type": "stream",
          "name": "stdout",
          "text": [
            "[[1 0 0 0]\n",
            " [0 1 0 0]\n",
            " [0 0 1 0]\n",
            " [0 0 0 1]]\n"
          ]
        }
      ]
    }
  ]
}